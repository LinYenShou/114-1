{
  "nbformat": 4,
  "nbformat_minor": 0,
  "metadata": {
    "colab": {
      "provenance": [],
      "authorship_tag": "ABX9TyNtlhi58csQHQm/C7qO3fPu",
      "include_colab_link": true
    },
    "kernelspec": {
      "name": "python3",
      "display_name": "Python 3"
    },
    "language_info": {
      "name": "python"
    }
  },
  "cells": [
    {
      "cell_type": "markdown",
      "metadata": {
        "id": "view-in-github",
        "colab_type": "text"
      },
      "source": [
        "<a href=\"https://colab.research.google.com/github/LinYenShou/114-1/blob/main/HW1.ipynb\" target=\"_parent\"><img src=\"https://colab.research.google.com/assets/colab-badge.svg\" alt=\"Open In Colab\"/></a>"
      ]
    },
    {
      "cell_type": "code",
      "source": [
        "from google.colab import auth\n",
        "auth.authenticate_user()\n",
        "\n",
        "import gspread\n",
        "from google.auth import default\n",
        "creds, _ = default()\n",
        "\n",
        "gc = gspread.authorize(creds)\n",
        "\n",
        "import pandas as pd\n",
        "\n",
        "# Google Sheet CSV 連結\n",
        "url = \"https://docs.google.com/spreadsheets/d/1WE8QZZtMBr1gAblLeW7caS4mEeOT74vcZOpl2Gc-hAU/export?format=csv&gid=0\"\n",
        "\n",
        "# 讀取 Google Sheet\n",
        "df = pd.read_csv(url)\n",
        "print(df.columns.tolist())\n",
        "\n",
        "while True:\n",
        "    # 讓使用者輸入\n",
        "    date = input(\"請輸入日期 (例如 2025-09-11)：\")\n",
        "    time = input(\"請輸入時間 (例如 14:30)：\")\n",
        "    item = input(\"請輸入品項：\")\n",
        "    money = input(\"請輸入金額：\")\n",
        "\n",
        "    # 加到 DataFrame\n",
        "    df = pd.concat([df, pd.DataFrame([{\n",
        "        \"日期\": date,\n",
        "        \"時間\": time,\n",
        "        \"品項\": item,\n",
        "        \"金額\": money\n",
        "    }])], ignore_index=True)\n",
        "     # 顯示目前的 DataFrame\n",
        "    print(\"\\n目前資料：\")\n",
        "    print(df)\n",
        "\n",
        "    # 問要不要繼續輸入\n",
        "    cont = input(\"\\n是否要繼續輸入？(y/n)：\")\n",
        "    if cont.lower() != \"y\":\n",
        "        break\n",
        "\n",
        "sheet_url = \"https://docs.google.com/spreadsheets/d/1WE8QZZtMBr1gAblLeW7caS4mEeOT74vcZOpl2Gc-hAU/export?format=csv&gid=0\"\n",
        "gsheets = gc.open_by_url(sheet_url)\n",
        "sheet = gsheets.sheet1 # 選擇第一個\n",
        "\n",
        "for row in df.values.tolist():\n",
        "  sheet.append_row(row)"
      ],
      "metadata": {
        "colab": {
          "base_uri": "https://localhost:8080/"
        },
        "id": "YV5thtpWno_t",
        "outputId": "4727c484-0a15-458a-cb23-991002affa5f"
      },
      "execution_count": 25,
      "outputs": [
        {
          "name": "stdout",
          "output_type": "stream",
          "text": [
            "['日期', '時間', '品項', '金額']\n",
            "請輸入日期 (例如 2025-09-11)：2025-09-11\n",
            "請輸入時間 (例如 14:30)：09:10\n",
            "請輸入品項：拿鐵\n",
            "請輸入金額：120\n",
            "\n",
            "目前資料：\n",
            "           日期     時間  品項   金額\n",
            "0  2025-09-11  09:10  拿鐵  120\n",
            "\n",
            "是否要繼續輸入？(y/n)：n\n"
          ]
        }
      ]
    }
  ]
}