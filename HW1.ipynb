{
  "nbformat": 4,
  "nbformat_minor": 0,
  "metadata": {
    "colab": {
      "provenance": [],
      "authorship_tag": "ABX9TyMyW67tpJWQ3E/K0tu89jDk",
      "include_colab_link": true
    },
    "kernelspec": {
      "name": "python3",
      "display_name": "Python 3"
    },
    "language_info": {
      "name": "python"
    }
  },
  "cells": [
    {
      "cell_type": "markdown",
      "metadata": {
        "id": "view-in-github",
        "colab_type": "text"
      },
      "source": [
        "<a href=\"https://colab.research.google.com/github/LinYenShou/114-1/blob/main/HW1.ipynb\" target=\"_parent\"><img src=\"https://colab.research.google.com/assets/colab-badge.svg\" alt=\"Open In Colab\"/></a>"
      ]
    },
    {
      "cell_type": "code",
      "source": [
        "from google.colab import auth\n",
        "auth.authenticate_user()\n",
        "\n",
        "import gspread\n",
        "from google.auth import default\n",
        "creds, _ = default()\n",
        "\n",
        "gc = gspread.authorize(creds)"
      ],
      "metadata": {
        "id": "YV5thtpWno_t"
      },
      "execution_count": 10,
      "outputs": []
    },
    {
      "cell_type": "code",
      "execution_count": null,
      "metadata": {
        "colab": {
          "base_uri": "https://localhost:8080/"
        },
        "id": "z6s7Vq0tW4W9",
        "outputId": "aa6a16dd-2627-4adb-9414-51bfe9385f30"
      },
      "outputs": [
        {
          "output_type": "stream",
          "name": "stdout",
          "text": [
            "['日期', '時間', '品項', '金額']\n"
          ]
        }
      ],
      "source": [
        "import pandas as pd\n",
        "\n",
        "# Google Sheet CSV 連結\n",
        "url = \"https://docs.google.com/spreadsheets/d/1WE8QZZtMBr1gAblLeW7caS4mEeOT74vcZOpl2Gc-hAU/export?format=csv&gid=0\"\n",
        "\n",
        "# 讀取 Google Sheet\n",
        "df = pd.read_csv(url)\n",
        "print(df.columns.tolist())"
      ]
    },
    {
      "cell_type": "code",
      "source": [
        "while True:\n",
        "    # 讓使用者輸入\n",
        "    date = input(\"請輸入日期 (例如 2025-09-11)：\")\n",
        "    time = input(\"請輸入時間 (例如 14:30)：\")\n",
        "    item = input(\"請輸入品項：\")\n",
        "    money = input(\"請輸入金額：\")\n",
        "\n",
        "    # 加到 DataFrame\n",
        "    df = pd.concat([df, pd.DataFrame([{\n",
        "        \"日期\": date,\n",
        "        \"時間\": time,\n",
        "        \"品項\": item,\n",
        "        \"金額\": money\n",
        "    }])], ignore_index=True)\n",
        "     # 顯示目前的 DataFrame\n",
        "    print(\"\\n目前資料：\")\n",
        "    print(df)\n",
        "\n",
        "    # 問要不要繼續輸入\n",
        "    cont = input(\"\\n是否要繼續輸入？(y/n)：\")\n",
        "    if cont.lower() != \"y\":\n",
        "        break\n"
      ],
      "metadata": {
        "colab": {
          "base_uri": "https://localhost:8080/"
        },
        "id": "3DcjgHMZf3mx",
        "outputId": "c3d71697-5b33-4157-976d-fabf3d5050ae"
      },
      "execution_count": null,
      "outputs": [
        {
          "output_type": "stream",
          "name": "stdout",
          "text": [
            "請輸入日期 (例如 2025-09-11)：09-87\n",
            "請輸入時間 (例如 14:30)：1400\n",
            "請輸入品項：120\n",
            "請輸入金額：120\n",
            "\n",
            "目前資料：\n",
            "           日期     時間   品項   金額\n",
            "0  2025-09-11  14:30   拿鐵  120\n",
            "1  2025-09-10  14:30   拿鐵  120\n",
            "2       09-87   1400  120  120\n"
          ]
        }
      ]
    },
    {
      "cell_type": "code",
      "source": [
        "sheet_url = \"https://docs.google.com/spreadsheets/d/1WE8QZZtMBr1gAblLeW7caS4mEeOT74vcZOpl2Gc-hAU/export?format=csv&gid=0\"\n",
        "gsheets = gc.open_by_url(sheet_url)\n",
        "sheet = gsheets.sheet1  # 選擇第一個工作表\n",
        "\n",
        "# 假設你的資料已經存在 df\n",
        "# 例如 df = pd.DataFrame(columns=[\"日期\", \"時間\", \"品項\", \"金額\"]) + 使用者輸入的資料\n",
        "\n",
        "# 將 DataFrame 的資料逐列 append 到 Google Sheet\n",
        "for row in df.values.tolist():\n",
        "    sheet.append_row(row)\n",
        "\n",
        "print(\"✅ 資料已成功寫入 Google Sheet！\")"
      ],
      "metadata": {
        "colab": {
          "base_uri": "https://localhost:8080/"
        },
        "id": "N-bt9hxFiDjd",
        "outputId": "785fdf4a-5ea0-4195-c558-dcad1a1d1369"
      },
      "execution_count": 11,
      "outputs": [
        {
          "output_type": "stream",
          "name": "stdout",
          "text": [
            "✅ 資料已成功寫入 Google Sheet！\n"
          ]
        }
      ]
    }
  ]
}