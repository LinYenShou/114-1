{
  "nbformat": 4,
  "nbformat_minor": 0,
  "metadata": {
    "colab": {
      "provenance": [],
      "authorship_tag": "ABX9TyOEqJzH4iy9G/dZxuQXtU5R",
      "include_colab_link": true
    },
    "kernelspec": {
      "name": "python3",
      "display_name": "Python 3"
    },
    "language_info": {
      "name": "python"
    }
  },
  "cells": [
    {
      "cell_type": "markdown",
      "metadata": {
        "id": "view-in-github",
        "colab_type": "text"
      },
      "source": [
        "<a href=\"https://colab.research.google.com/github/LinYenShou/114-1/blob/main/HW1_2gradio.ipynb\" target=\"_parent\"><img src=\"https://colab.research.google.com/assets/colab-badge.svg\" alt=\"Open In Colab\"/></a>"
      ]
    },
    {
      "cell_type": "code",
      "source": [
        "import gradio as gr\n",
        "import pandas as pd\n",
        "import gspread\n",
        "from google.colab import auth\n",
        "from google.auth import default\n",
        "import re\n",
        "\n",
        "# 驗證 Google 帳號\n",
        "auth.authenticate_user()\n",
        "creds, _ = default()\n",
        "gc = gspread.authorize(creds)\n",
        "\n",
        "sheet_edit_url = \"https://docs.google.com/spreadsheets/d/1IPwdD4C5XzEbYe6t9EehoOWguXsGpGq8tbpJlwzjbWE/edit\"\n",
        "gsheets = gc.open_by_url(sheet_edit_url)\n",
        "sheet = gsheets.sheet1\n",
        "\n",
        "csv_url = \"https://docs.google.com/spreadsheets/d/1IPwdD4C5XzEbYe6t9EehoOWguXsGpGq8tbpJlwzjbWE/export?format=csv&gid=0\"\n",
        "df = pd.read_csv(csv_url)\n",
        "\n",
        "# --- 定義驗證函式 ---\n",
        "def validate_date(date):\n",
        "    if re.match(r\"^\\d{4}-\\d{2}-\\d{2}$\", date):\n",
        "        return \"✅ 日期格式正確！\"\n",
        "    else:\n",
        "        return \"❌ 日期格式錯誤，請重新輸入 (YYYY-MM-DD)。\"\n",
        "\n",
        "def validate_time(time):\n",
        "    if re.match(r\"^(?:[01]\\d|2[0-3]):[0-5]\\d$\", time):\n",
        "        return \"✅ 時間格式正確！\"\n",
        "    else:\n",
        "        return \"❌ 時間格式錯誤，請重新輸入 (HH:MM)。\"\n",
        "\n",
        "def validate_item(item):\n",
        "    if item.strip() != \"\":\n",
        "        return \"✅ 品項已輸入！\"\n",
        "    else:\n",
        "        return \"❌ 品項不能為空。\"\n",
        "\n",
        "def validate_money(money):\n",
        "    if str(money).isdigit():\n",
        "        return \"✅ 金額格式正確！\"\n",
        "    else:\n",
        "        return \"❌ 金額必須是數字，請重新輸入。\"\n",
        "\n",
        "# --- 修正後的 submit_data 函式 ---\n",
        "def submit_data(date, time, item, money):\n",
        "    global df\n",
        "\n",
        "    if not all([\n",
        "        re.match(r\"^\\d{4}-\\d{2}-\\d{2}$\", date),\n",
        "        re.match(r\"^(?:[01]\\d|2[0-3]):[0-5]\\d$\", time),\n",
        "        str(money).isdigit(),\n",
        "        item.strip() != \"\"\n",
        "    ]):\n",
        "        return df, \"❌ 提交失敗：請檢查所有欄位格式是否正確。\"\n",
        "\n",
        "    try:\n",
        "        money = int(money)\n",
        "        new_row_df = pd.DataFrame([{\n",
        "            \"日期\": date,\n",
        "            \"時間\": time,\n",
        "            \"品項\": item,\n",
        "            \"金額\": money\n",
        "        }])\n",
        "        df = pd.concat([df, new_row_df], ignore_index=True)\n",
        "        sheet.append_row(new_row_df.values.tolist()[0])\n",
        "        return df, \"✅ 資料新增成功！\"\n",
        "    except Exception as e:\n",
        "        return df, f\"❌ 發生錯誤：{e}\"\n",
        "\n",
        "# --- Gradio 介面設定 ---\n",
        "with gr.Blocks(theme=gr.themes.Soft()) as demo:\n",
        "    gr.Markdown(\"# 個人記帳小幫手\")\n",
        "    gr.Markdown(\"請在下方輸入您的支出記錄，系統會自動儲存到 Google Sheet。\")\n",
        "    with gr.Row():\n",
        "        date_input = gr.Textbox(label=\"日期\", placeholder=\"YYYY-MM-DD\")\n",
        "        date_status = gr.Text(label=\"日期狀態\")\n",
        "    with gr.Row():\n",
        "        time_input = gr.Textbox(label=\"時間\", placeholder=\"HH:MM\")\n",
        "        time_status = gr.Text(label=\"時間狀態\")\n",
        "    with gr.Row():\n",
        "        item_input = gr.Textbox(label=\"品項\")\n",
        "        item_status = gr.Text(label=\"品項狀態\")\n",
        "    with gr.Row():\n",
        "        money_input = gr.Textbox(label=\"金額\", placeholder=\"請輸入數字\")\n",
        "        money_status = gr.Text(label=\"金額狀態\")\n",
        "    submit_btn = gr.Button(\"新增記錄\")\n",
        "    output_df = gr.DataFrame(value=df, label=\"所有記帳記錄\")\n",
        "    final_status = gr.Text(label=\"提交狀態\", value=\"\")\n",
        "    date_input.change(fn=validate_date, inputs=date_input, outputs=date_status)\n",
        "    time_input.change(fn=validate_time, inputs=time_input, outputs=time_status)\n",
        "    item_input.change(fn=validate_item, inputs=item_input, outputs=item_status)\n",
        "    money_input.change(fn=validate_money, inputs=money_input, outputs=money_status)\n",
        "    submit_btn.click(fn=submit_data, inputs=[date_input, time_input, item_input, money_input], outputs=[output_df, final_status])\n",
        "\n",
        "demo.launch(debug=True)"
      ],
      "metadata": {
        "colab": {
          "base_uri": "https://localhost:8080/",
          "height": 677
        },
        "id": "MaHqUQB1r6wv",
        "outputId": "165d8bbd-572f-40a2-a0f9-4a48e1e397f3"
      },
      "execution_count": 10,
      "outputs": [
        {
          "output_type": "stream",
          "name": "stdout",
          "text": [
            "It looks like you are running Gradio on a hosted Jupyter notebook, which requires `share=True`. Automatically setting `share=True` (you can turn this off by setting `share=False` in `launch()` explicitly).\n",
            "\n",
            "Colab notebook detected. This cell will run indefinitely so that you can see errors and logs. To turn off, set debug=False in launch().\n",
            "* Running on public URL: https://27866b0da6b21aade7.gradio.live\n",
            "\n",
            "This share link expires in 1 week. For free permanent hosting and GPU upgrades, run `gradio deploy` from the terminal in the working directory to deploy to Hugging Face Spaces (https://huggingface.co/spaces)\n"
          ]
        },
        {
          "output_type": "display_data",
          "data": {
            "text/plain": [
              "<IPython.core.display.HTML object>"
            ],
            "text/html": [
              "<div><iframe src=\"https://27866b0da6b21aade7.gradio.live\" width=\"100%\" height=\"500\" allow=\"autoplay; camera; microphone; clipboard-read; clipboard-write;\" frameborder=\"0\" allowfullscreen></iframe></div>"
            ]
          },
          "metadata": {}
        },
        {
          "output_type": "stream",
          "name": "stdout",
          "text": [
            "Keyboard interruption in main thread... closing server.\n",
            "Killing tunnel 127.0.0.1:7860 <> https://27866b0da6b21aade7.gradio.live\n"
          ]
        },
        {
          "output_type": "execute_result",
          "data": {
            "text/plain": []
          },
          "metadata": {},
          "execution_count": 10
        }
      ]
    }
  ]
}