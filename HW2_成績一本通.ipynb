{
  "nbformat": 4,
  "nbformat_minor": 0,
  "metadata": {
    "colab": {
      "provenance": [],
      "authorship_tag": "ABX9TyP8C/WVSNtWavqp7TJAWqQ+",
      "include_colab_link": true
    },
    "kernelspec": {
      "name": "python3",
      "display_name": "Python 3"
    },
    "language_info": {
      "name": "python"
    }
  },
  "cells": [
    {
      "cell_type": "markdown",
      "metadata": {
        "id": "view-in-github",
        "colab_type": "text"
      },
      "source": [
        "<a href=\"https://colab.research.google.com/github/LinYenShou/114-1/blob/main/HW2_%E6%88%90%E7%B8%BE%E4%B8%80%E6%9C%AC%E9%80%9A.ipynb\" target=\"_parent\"><img src=\"https://colab.research.google.com/assets/colab-badge.svg\" alt=\"Open In Colab\"/></a>"
      ]
    },
    {
      "cell_type": "code",
      "execution_count": 23,
      "metadata": {
        "id": "J2ZfVSAmpH6-"
      },
      "outputs": [],
      "source": [
        "!pip install -q google-generativeai"
      ]
    },
    {
      "cell_type": "code",
      "source": [
        "import gradio as gr\n",
        "import pandas as pd\n",
        "from google.colab import auth\n",
        "from google.auth import default\n",
        "\n",
        "# -*- coding: utf-8 -*-\n",
        "import gspread\n",
        "from datetime import datetime\n",
        "import google.generativeai as genai\n",
        "import os\n",
        "import json"
      ],
      "metadata": {
        "id": "naXRfaNbplvs"
      },
      "execution_count": 24,
      "outputs": []
    },
    {
      "cell_type": "code",
      "source": [
        "from google.colab import userdata\n",
        "\n",
        "# 從 Colab Secrets 中獲取 API 金鑰\n",
        "api_key = userdata.get('gemini')\n",
        "\n",
        "# 使用獲取的金鑰配置 genai\n",
        "genai.configure(api_key=api_key)\n",
        "\n",
        "model = genai.GenerativeModel('gemini-2.5-pro')"
      ],
      "metadata": {
        "id": "smQLrfG1p1WR"
      },
      "execution_count": 25,
      "outputs": []
    },
    {
      "cell_type": "code",
      "source": [
        "SHEET_URL = \"https://docs.google.com/spreadsheets/d/1-7xUMjl7-QQCpixs_bQT16qYVcjkj94VAYh7w1xdlZM/edit?gid=0#gid=0\"\n",
        "WORKSHEET_NAME = \"工作表1\"\n",
        "\n",
        "REQUIRED_COLUMNS = [\"日期\", \"科目\", \"作業成績\",\"平均\",\"標準差\"]\n",
        "\n",
        "_auth_done = False\n",
        "_gc = None\n",
        "_ws = None"
      ],
      "metadata": {
        "id": "COtUxCiZqGIV"
      },
      "execution_count": 26,
      "outputs": []
    },
    {
      "cell_type": "code",
      "source": [
        "from datetime import datetime\n",
        "import math # <--- 1. 導入 math 模組用於計算標準差\n",
        "\n",
        "# --- 主要功能區塊 ---\n",
        "def get_user_grades():\n",
        "    \"\"\"\n",
        "    透過終端機輸入學生成績，直到使用者輸入 'q' 結束。\n",
        "    \"\"\"\n",
        "    print(\"--- 準備輸入成績。輸入 'q' 來停止。---\")\n",
        "    grades = []\n",
        "    while True:\n",
        "        subject = input(\"請輸入科目（或輸入 'q' 停止）：\")\n",
        "        if subject.lower() == 'q':\n",
        "            break\n",
        "\n",
        "        grade_input = input(f\"請輸入 {subject} 的成績：\")\n",
        "        try:\n",
        "            grade = int(grade_input)\n",
        "        except ValueError:\n",
        "            print(\"❌ 成績必須是數字。請重新輸入。\")\n",
        "            continue\n",
        "\n",
        "        today = datetime.now().strftime('%Y-%m-%d')\n",
        "        # 儲存的成績是一個列表 [日期, 科目, 分數]\n",
        "        grades.append([today, subject, grade])\n",
        "        print(f\"✅ 已記錄：日期: {today}, 科目: {subject}, 成績: {grade}\\n\")\n",
        "\n",
        "    return grades\n",
        "\n",
        "def analyze_grades(grades_data):\n",
        "    \"\"\"\n",
        "    計算並輸出成績的平均值和標準差。\n",
        "    \"\"\"\n",
        "    if not grades_data:\n",
        "        return # 如果沒有成績，就停止計算\n",
        "\n",
        "    # 2. 提取所有分數\n",
        "    scores = [record[2] for record in grades_data]\n",
        "    n = len(scores)\n",
        "\n",
        "    # 3. 計算平均值 (Average)\n",
        "    average = sum(scores) / n\n",
        "\n",
        "    # 4. 計算標準差 (Standard Deviation)\n",
        "    # 步驟 a: 計算每個分數與平均值的差的平方和\n",
        "    variance_sum = sum([(score - average) ** 2 for score in scores])\n",
        "\n",
        "    # 步驟 b: 計算變異數\n",
        "    variance = variance_sum / n\n",
        "\n",
        "    # 步驟 c: 開根號得到標準差\n",
        "    std_dev = math.sqrt(variance)\n",
        "\n",
        "    # 5. 輸出結果\n",
        "    print(\"\\n--- 成績統計分析 ---\")\n",
        "    print(f\"總共輸入科目數： {n} 門\")\n",
        "    print(f\"總分： {sum(scores)}\")\n",
        "    print(f\"平均成績 (Average)： {average:.2f}\")  # 保留兩位小數\n",
        "    print(f\"標準差 (Standard Deviation)： {std_dev:.2f}\") # 保留兩位小數\n",
        "    print(\"--------------------\")\n",
        "\n",
        "# --- 程式執行入口 ---\n",
        "if __name__ == \"__main__\":\n",
        "    all_grades = get_user_grades()\n",
        "\n",
        "    # 在輸入完成後呼叫分析函式\n",
        "    analyze_grades(all_grades)\n",
        "\n",
        "    # 輸出所有原始記錄\n",
        "    print(\"\\n--- 原始輸入資料 ---\")\n",
        "    for record in all_grades:\n",
        "        print(f\"日期: {record[0]}, 科目: {record[1]}, 成績: {record[2]}\")\n",
        "    print(\"--------------------\")"
      ],
      "metadata": {
        "colab": {
          "base_uri": "https://localhost:8080/"
        },
        "id": "YIQGZVL_ssKl",
        "outputId": "a8c28ed2-55a3-4eb3-aa9e-b395c4f868f9"
      },
      "execution_count": null,
      "outputs": [
        {
          "output_type": "stream",
          "name": "stdout",
          "text": [
            "--- 準備輸入成績。輸入 'q' 來停止。---\n",
            "請輸入科目（或輸入 'q' 停止）：a\n",
            "請輸入 a 的成績：10\n",
            "✅ 已記錄：日期: 2025-10-03, 科目: a, 成績: 10\n",
            "\n",
            "請輸入科目（或輸入 'q' 停止）：b\n",
            "請輸入 b 的成績：20\n",
            "✅ 已記錄：日期: 2025-10-03, 科目: b, 成績: 20\n",
            "\n",
            "請輸入科目（或輸入 'q' 停止）：q\n",
            "\n",
            "--- 成績統計分析 ---\n",
            "總共輸入科目數： 2 門\n",
            "總分： 30\n",
            "平均成績 (Average)： 15.00\n",
            "標準差 (Standard Deviation)： 5.00\n",
            "--------------------\n",
            "\n",
            "--- 原始輸入資料 ---\n",
            "日期: 2025-10-03, 科目: a, 成績: 10\n",
            "日期: 2025-10-03, 科目: b, 成績: 20\n",
            "--------------------\n"
          ]
        }
      ]
    },
    {
      "cell_type": "code",
      "source": [
        "# 請注意：假設您已在程式碼開頭導入了 math, genai 等模組\n",
        "\n",
        "def calculate_stats(grades_data):\n",
        "    \"\"\"\n",
        "    計算成績的平均值和標準差。\n",
        "    返回一個包含 (average, std_dev) 的元組。\n",
        "    \"\"\"\n",
        "    if not grades_data:\n",
        "        return 0, 0\n",
        "\n",
        "    # 確保成績是數字，因為 record[2] 來自外部輸入，可能需要轉換\n",
        "    # 這裡假設 grades_data 的結構是 (日期, 科目名稱, 分數)\n",
        "    scores = [record[2] for record in grades_data]\n",
        "\n",
        "    # 如果分數是以字串形式存儲，請確保轉換為浮點數或整數\n",
        "    # 範例：scores = [float(record[2]) for record in grades_data]\n",
        "\n",
        "    n = len(scores)\n",
        "\n",
        "    average = sum(scores) / n\n",
        "\n",
        "    variance_sum = sum([(score - average) ** 2 for score in scores])\n",
        "    variance = variance_sum / n\n",
        "    std_dev = math.sqrt(variance)\n",
        "\n",
        "    return round(average, 2), round(std_dev, 2)\n",
        "\n",
        "\n",
        "# --- 核心 AI 呼叫函式 (已修改) ---\n",
        "def get_ai_summary_and_review(grades):\n",
        "    \"\"\"\n",
        "    呼叫 Gemini 模型，整合所有成績與統計數據，並要求生成總結評語、表現分析和學習建議。\n",
        "    \"\"\"\n",
        "    # 1. 確保你已經配置了 Gemini API Key (這裡我們假設 client 已在 main 函式中初始化)\n",
        "    # 這裡為了簡化，直接使用 GenerativeModel 語法，但推薦使用 client.models.get()\n",
        "    model = genai.GenerativeModel('gemini-2.5-flash')\n",
        "\n",
        "    # 2. 關鍵步驟：計算統計數據，並將結果存入 avg 和 std_dev\n",
        "    avg, std_dev = calculate_stats(grades)\n",
        "\n",
        "    # 3. 準備給 AI 的提示：將統計數據插入\n",
        "    prompt_text = \"你是一位資深教育顧問。請根據提供的學生成績和統計數據，生成一份詳細的報告。這份報告必須包含以下三個部分：\\n\\n\"\n",
        "    prompt_text += \"1. **整體表現評語 (Review)：** 針對平均、科目數量和標準差，給予簡潔有力的總結評語。\\n\"\n",
        "    prompt_text += \"2. **表現分析與優勢/弱項 (Analysis)：** 分析成績的集中度（看標準差）和科目分數的分佈，指出可能的優勢領域和需要加強的弱項。\\n\"\n",
        "    prompt_text += \"3. **常見學習迷思與建議 (Advice)：** 提供針對此成績模式的常見學習迷思整理和實用建議。\\n\\n\"\n",
        "\n",
        "    prompt_text += \"【統計數據】\\n\"\n",
        "\n",
        "    # <<< 關鍵修改：使用 f-string 導入 avg 和 std_dev >>>\n",
        "    prompt_text += f\"總平均成績：{avg}\\n\"\n",
        "    prompt_text += f\"成績標準差：{std_dev}\\n\"\n",
        "    prompt_text += \"【統計數據】\\n\"\n",
        "    prompt_text += f\"總平均成績：{avg}\\n\"\n",
        "    prompt_text += f\"成績標準差：{std_dev}\\n\"\n",
        "    prompt_text += f\"總科目數：{len(grades)}\\n\\n\"\n",
        "    prompt_text += f\"總科目數：{len(grades)}\\n\\n\"\n",
        "    prompt_text += \"【原始成績】\\n\"\n",
        "    for record in grades:\n",
        "        date, subject, grade = record\n",
        "        prompt_text += f\"日期：{date}, 科目：{subject}, 成績：{grade}\\n\"\n",
        "\n",
        "    print(\"\\n--- 正在呼叫 AI 模型生成報告... ---\")\n",
        "    try:\n",
        "        response = model.generate_content(prompt_text)\n",
        "        report = response.text\n",
        "        return report\n",
        "    except Exception as e:\n",
        "        print(f\"呼叫 AI 時發生錯誤：{e}\")\n",
        "        return \"AI 報告生成失敗。\""
      ],
      "metadata": {
        "id": "lsgjxOUGKcVB"
      },
      "execution_count": null,
      "outputs": []
    },
    {
      "cell_type": "code",
      "source": [
        "new_grades = get_user_grades()"
      ],
      "metadata": {
        "colab": {
          "base_uri": "https://localhost:8080/"
        },
        "id": "QSEfXG2Tx-6o",
        "outputId": "7a54d7d4-423e-47e1-95f1-c34b332c2611"
      },
      "execution_count": null,
      "outputs": [
        {
          "name": "stdout",
          "output_type": "stream",
          "text": [
            "--- 準備輸入成績。輸入 'q' 來停止。---\n",
            "請輸入科目（或輸入 'q' 停止）：a\n",
            "請輸入 a 的成績：10\n",
            "✅ 已記錄：日期: 2025-10-03, 科目: a, 成績: 10\n",
            "\n",
            "請輸入科目（或輸入 'q' 停止）：b\n",
            "請輸入 b 的成績：20\n",
            "✅ 已記錄：日期: 2025-10-03, 科目: b, 成績: 20\n",
            "\n",
            "請輸入科目（或輸入 'q' 停止）：q\n"
          ]
        }
      ]
    },
    {
      "cell_type": "code",
      "source": [
        "new_grades"
      ],
      "metadata": {
        "colab": {
          "base_uri": "https://localhost:8080/"
        },
        "id": "9j7BWn8dyB8S",
        "outputId": "70b899e9-9ff4-483f-fb43-51a58db34fba"
      },
      "execution_count": null,
      "outputs": [
        {
          "output_type": "execute_result",
          "data": {
            "text/plain": [
              "[['2025-10-03', 'a', 10], ['2025-10-03', 'b', 20]]"
            ]
          },
          "metadata": {},
          "execution_count": 20
        }
      ]
    },
    {
      "cell_type": "code",
      "source": [
        "get_ai_summary_and_review(new_grades)"
      ],
      "metadata": {
        "colab": {
          "base_uri": "https://localhost:8080/",
          "height": 222
        },
        "id": "-sSK7SsgyG_O",
        "outputId": "d22848d3-b845-4a78-e67e-dda590e47752"
      },
      "execution_count": null,
      "outputs": [
        {
          "output_type": "stream",
          "name": "stdout",
          "text": [
            "\n",
            "--- 正在呼叫 AI 模型生成報告... ---\n"
          ]
        },
        {
          "output_type": "execute_result",
          "data": {
            "text/plain": [
              "'## 學生學業表現詳細報告\\n\\n**學生姓名：** [未提供，可自行填入]\\n**報告日期：** 2023年10月27日\\n**顧問：** 資深教育顧問\\n\\n---\\n\\n### 一、 整體表現評語 (Overall Review)\\n\\n本報告基於學生目前極其有限的兩科目成績數據進行分析。\\n\\n*   **總平均成績 15.0：** 在未明確總分基準的情況下，若假定滿分為20分，則此平均值屬於中等偏上的表現。若滿分為100分，則該平均值表現不佳。鑒於單科成績為10和20，本報告將暫時以「滿分20分」的參考標準進行解讀。在此前提下，平均15.0分顯示學生具備一定的學習潛力。\\n*   **總科目數 2：** 僅有兩科目成績，這是一個非常小且不具代表性的樣本。因此，任何基於此數據得出的結論都應被視為初步觀察，無法全面反映學生的整體學習能力或學術潛力。\\n*   **成績標準差 5.0：** 相對於平均值15.0分而言，5.0的標準差在僅有兩個科目數據的情況下，反映出**科目之間成績的高度分散**。這意味著學生的學習表現存在顯著的科目不平衡性。\\n\\n**總結而言，目前的數據描繪了一位在少數科目中表現極度不均的學生，擁有一項突出優勢但同時存在一項明顯弱項的初步學習模式。**\\n\\n---\\n\\n### 二、 表現分析與優勢/弱項 (Performance Analysis & Strengths/Weaknesses)\\n\\n#### 表現分析：\\n\\n1.  **成績集中度與分佈：**\\n    *   標準差5.0清晰地揭示了學生兩科目成績的**兩極分化**。具體而言，科目a的成績為10，恰好比平均值低一個標準差；科目b的成績為20，恰好比平均值高一個標準差。這種分佈顯示學生的學習表現並非穩定一致，而是在不同學科領域展現出截然不同的成果。\\n    *   這暗示學生可能在不同科目之間存在明顯的興趣差異、基礎知識掌握程度不同，或者學習方法適用性的問題。\\n    *   從宏觀角度看，這種高度分散的成績分布在早期階段既是挑戰，也提供了明確的改進方向。\\n\\n2.  **科目分數分佈：**\\n    *   **科目b (成績：20)：** 若以滿分20分計，學生在科目b中取得了**滿分**。這是一個非常令人振奮的成績，表明學生在該科目中可能展現出：\\n        *   扎實的基礎知識。\\n        *   出色的理解與應用能力。\\n        *   高度的學習興趣或投入。\\n        *   有效的學習策略。\\n        *   在該領域有顯著的潛力和天賦。\\n    *   **科目a (成績：10)：** 相較於科目b的優秀表現，科目a的成績為10，僅為科目b的一半。這指出科目a是目前學生學習上的**明顯弱項**。可能的原因包括：\\n        *   對該科目缺乏興趣或動力。\\n        *   基礎概念存在理解盲點或缺漏。\\n        *   學習方法不適用於該科目。\\n        *   考試技巧或壓力管理問題。\\n        *   花費的時間與精力不足。\\n\\n#### 優勢領域：\\n\\n*   **科目b：** 學生在科目b上表現卓越，幾乎可以認定這是其目前的**核心優勢領域**。這份優異的成績不僅體現了知識的掌握，更可能反映了學生在特定學習內容或技能上的天賦與熱情。這種成功經驗是建立自信、激發其他學習潛力的重要基石。\\n\\n#### 弱項領域：\\n\\n*   **科目a：** 科目a是目前需要重點關注和加強的**明確弱項**。這不僅是成績上的不足，更可能暗示學生在面對不擅長的科目時，學習動力、策略調整或問題解決能力等方面存在的挑戰。及早識別並介入，對於避免學習瓶頸的形成至關重要。\\n\\n---\\n\\n### 三、 常見學習迷思與建議 (Common Learning Myths & Advice)\\n\\n針對此成績模式，學生與家長常會陷入以下學習迷思，並建議採取對應策略：\\n\\n#### 常見學習迷思：\\n\\n1.  **迷思一：「我只擅長我喜歡的科目，不喜歡的科目怎麼努力都學不好。」**\\n    *   **解釋：** 學生在科目b取得高分，而在科目a表現不佳，容易強化這種「天生擅長/不擅長」的固有思維。這會導致在弱項科目上投入不足，或在遇到困難時輕易放棄。\\n    *   **現實：** 學習興趣固然重要，但許多「不喜歡」或「不擅長」的科目，往往可以透過調整學習策略、找到激勵點、或尋求有效協助來突破。能力是可以培養和提升的。\\n\\n2.  **迷思二：「只要把所有時間都花在弱項上，就能進步。」**\\n    *   **解釋：** 出於對弱項的焦慮，許多學生會傾向於將所有學習時間都投入到成績不佳的科目中。\\n    *   **現實：** 完全放棄優勢科目的發展是不智的。這可能導致在自己擅長領域的潛力無法充分發揮，甚至失去學習的樂趣和自信。高效的學習應是「揚長補短」的結合。\\n\\n3.  **迷思三：「這些分數足以代表我的整體學習能力。」**\\n    *   **解釋：** 僅憑兩科目成績就對學生的學習能力下定論，會產生誤導性判斷。\\n    *   **現實：** 兩科目成績僅為極小的樣本，無法全面評估學生的認知能力、學習風格、解決問題能力等多方面特質。這僅是一個起點，需要更多元的數據來描繪全貌。\\n\\n#### 實用學習建議：\\n\\n1.  **確認評分標準與目標：**\\n    *   **首要之務是釐清「總分基準」**（是20分制還是100分制）。這將直接影響對成績的解讀和後續目標的設定。\\n    *   與教師溝通，了解各科的學習目標、評分標準和學習重點。\\n\\n2.  **「揚長」：鞏固並拓展優勢（科目b）：**\\n    *   **深入探討成功經驗：** 鼓勵學生反思在科目b中取得成功的具體原因。是學習方法得當？興趣濃厚？還是有額外的資源？將這些成功經驗整理歸納，嘗試應用於其他科目。\\n    *   **持續精進：** 保持對科目b的熱情，不僅限於課本知識，可以進行拓展閱讀、參加相關活動或競賽，將優勢轉化為核心競爭力。\\n    *   **擔任小老師：** 鼓勵學生向同學解釋科目b的內容，這不僅能加深理解，也能提升自信和溝通能力。\\n\\n3.  **「補短」：策略性改進弱項（科目a）：**\\n    *   **精準分析弱點：** 不要只看總分，而是要仔細分析科目a的考卷或作業，找出具體的知識點、題型或技能上存在的問題。是概念不清？計算錯誤？應用困難？還是時間管理問題？\\n    *   **尋求外部資源：** 考慮尋求老師、同學的幫助，或尋找家教、補習班等支援。讓專業人士提供更具針對性的指導。\\n    *   **調整學習方法：** 嘗試不同的學習策略。例如，若科目a需要大量記憶，可嘗試視覺化、聯想記憶；若需要理解，可多做練習題、畫概念圖。將科目b中有效的學習策略移植到科目a，看是否可行。\\n    *   **培養興趣連結：** 試著找出科目a與現實生活或學生感興趣領域的連結，使其變得不那麼枯燥。即使是微小的興趣點，也能成為學習的動力。\\n    *   **分階段目標：** 為科目a設定具體、可達成的小目標，例如「下一次考試，科目a進步5分」，而不是籠統的「我要學好科目a」。每達成一個小目標，都能增強信心。\\n\\n4.  **拓展學習範圍，獲得更全面的評估：**\\n    *   鼓勵學生在接下來的學習中，接觸更多不同類型的科目。更多的科目成績數據將有助於更準確地分析學生的整體學習模式、潛在天賦和需要提升的領域。\\n\\n5.  **培養成長型思維：**\\n    *   強調智力和能力是可以通過努力和策略來提升的。不要將一時的成績不足歸咎於「天生不夠聰明」，而是看作改進的機會。\\n\\n這份報告是基於目前有限數據的初步評估。作為資深教育顧問，強烈建議在未來獲取更多、更全面的學業成績和學習行為數據後，再進行更深入、精準的分析和指導。'"
            ],
            "application/vnd.google.colaboratory.intrinsic+json": {
              "type": "string"
            }
          },
          "metadata": {},
          "execution_count": 21
        }
      ]
    },
    {
      "cell_type": "code",
      "source": [
        "def main():\n",
        "    \"\"\"\n",
        "    主程式流程：輸入成績 -> 獲取 AI 摘要與統計數據 -> 寫入 Google Sheet。\n",
        "    \"\"\"\n",
        "    try:\n",
        "        # 1. Google Sheet 身份驗證 (此區塊不變)\n",
        "        auth.authenticate_user()\n",
        "\n",
        "        creds, _ = default()\n",
        "        gc = gspread.authorize(creds)\n",
        "\n",
        "        # 假設 SHEET_URL 和 WORKSHEET_NAME 已在其他地方定義\n",
        "        sh = gc.open_by_url(SHEET_URL)\n",
        "        ws = sh.worksheet(WORKSHEET_NAME)\n",
        "\n",
        "        print(\"--- Google Sheet 連線成功。---\")\n",
        "\n",
        "        # 2. 獲取使用者輸入的成績\n",
        "        new_grades = get_user_grades()\n",
        "\n",
        "        if not new_grades:\n",
        "            print(\"沒有輸入任何成績，程式結束。\")\n",
        "            return\n",
        "\n",
        "        # 3. 將新成績寫入 Google Sheet\n",
        "        ws.append_rows(new_grades)\n",
        "        print(\"\\n--- 成績已成功寫入 Google Sheet。---\")\n",
        "\n",
        "        # 4. 準備 AI 呼叫所需的數據\n",
        "\n",
        "        # 關鍵步驟 A: 計算統計數據\n",
        "        # 確保 calculate_stats 函式在其他地方有定義\n",
        "        avg, std_dev = calculate_stats(new_grades)\n",
        "\n",
        "        # 關鍵步驟 B: 創建包含統計數據的新列表給 AI\n",
        "        grades_for_ai = new_grades.copy()\n",
        "        current_date = datetime.now().strftime('%Y-%m-%d')\n",
        "\n",
        "        # 將平均值和標準差作為特殊的「記錄」加入，這樣 AI 就能在原始數據中看到它們\n",
        "        grades_for_ai.append([current_date, \"---總平均---\", avg])\n",
        "        grades_for_ai.append([current_date, \"---標準差---\", std_dev])\n",
        "\n",
        "        # 關鍵步驟 C: 呼叫 AI 函式，並傳入包含統計數據的列表\n",
        "        # 💡 注意：我們需要修改 get_ai_summary_and_review 讓它接受並分析這個列表\n",
        "        summary = get_ai_summary_and_review(grades_for_ai)\n",
        "\n",
        "        # 5. 尋找並寫入 AI 摘要 (邏輯調整，讓 AI 摘要與統計數據共存)\n",
        "\n",
        "        # 尋找第一行空白列 (將用於寫入 AI 摘要的標題和內容)\n",
        "        next_row = len(ws.col_values(1)) + 1\n",
        "\n",
        "        # 由於 AI 摘要可能很長，我們將統計數據寫在 AI 摘要之前的一行或兩行，方便查看\n",
        "\n",
        "        # 寫入總平均 (在 AI 摘要標題前兩行)\n",
        "        ws.update_cell(next_row, 1, current_date)\n",
        "        ws.update_cell(next_row, 2, '總平均')\n",
        "        ws.update_cell(next_row, 3, avg)\n",
        "\n",
        "        # 寫入標準差 (在 AI 摘要標題前一行)\n",
        "        ws.update_cell(next_row + 1, 1, current_date)\n",
        "        ws.update_cell(next_row + 1, 2, '標準差')\n",
        "        ws.update_cell(next_row + 1, 3, std_dev)\n",
        "\n",
        "        # AI 摘要標題從 next_row + 2 開始\n",
        "        ws.update_cell(next_row + 2, 1, current_date)\n",
        "        ws.update_cell(next_row + 2, 2, 'AI 摘要')\n",
        "\n",
        "        # 為了避免單元格內容過長，將摘要內容分成多行來寫入\n",
        "        summary_lines = summary.split('\\n')\n",
        "        for i, line in enumerate(summary_lines):\n",
        "            # 從第三欄 (C) 開始寫入內容\n",
        "            ws.update_cell(next_row + 2 + i, 3, line)\n",
        "\n",
        "        print(\"\\n--- 統計數據和 AI 摘要已成功寫入 Google Sheet。---\")\n",
        "        print(\"以下是 AI 生成的摘要內容：\")\n",
        "        print(\"-\" * 50)\n",
        "        print(summary)\n",
        "        print(\"-\" * 50)\n",
        "\n",
        "    except gspread.exceptions.APIError as e:\n",
        "        # 修正 IndentationError：確保 except 區塊有縮排內容\n",
        "        print(f\"Google Sheets API 錯誤：{e.response.text}\")\n",
        "        print(\"請確認：\")\n",
        "        print(\"1. 您的服務帳戶金鑰檔案正確且未過期。\")\n",
        "        print(\"2. 您已將服務帳戶的 Email 地址（在 JSON 檔案中）分享給 Google Sheet，並給予編輯權限。\")\n",
        "    except Exception as e:\n",
        "        # 修正 IndentationError：確保 except 區塊有縮排內容\n",
        "        print(f\"發生未預期的錯誤：{e}\")\n",
        "\n",
        "if __name__ == \"__main__\":\n",
        "    main()"
      ],
      "metadata": {
        "colab": {
          "base_uri": "https://localhost:8080/",
          "height": 1000
        },
        "id": "ZtEFJKUpdU4A",
        "outputId": "17afa6a2-65ba-42ea-bf3f-c82ab2625968"
      },
      "execution_count": 28,
      "outputs": [
        {
          "output_type": "stream",
          "name": "stdout",
          "text": [
            "--- Google Sheet 連線成功。---\n",
            "--- 準備輸入成績。輸入 'q' 來停止。---\n",
            "請輸入科目（或輸入 'q' 停止）：a\n",
            "請輸入 a 的成績：10\n",
            "✅ 已記錄：日期: 2025-10-03, 科目: a, 成績: 10\n",
            "\n",
            "請輸入科目（或輸入 'q' 停止）：b\n",
            "請輸入 b 的成績：20\n",
            "✅ 已記錄：日期: 2025-10-03, 科目: b, 成績: 20\n",
            "\n",
            "請輸入科目（或輸入 'q' 停止）：q\n",
            "\n",
            "--- 成績已成功寫入 Google Sheet。---\n",
            "\n",
            "--- 正在呼叫 AI 模型生成報告... ---\n",
            "\n",
            "--- 統計數據和 AI 摘要已成功寫入 Google Sheet。---\n",
            "以下是 AI 生成的摘要內容：\n",
            "--------------------------------------------------\n",
            "## 學生學業表現評估報告\n",
            "\n",
            "**日期：** 2023年10月26日\n",
            "**致：** 家長/學生\n",
            "**發件人：** 資深教育顧問\n",
            "\n",
            "---\n",
            "\n",
            "### **1. 整體表現評語 (Review)**\n",
            "\n",
            "該生目前的學業表現呈現出「**中等偏低，但高度不穩定**」的特點。總平均成績為12.5分（若假設滿分為20分，則約為中等；若滿分為100分，則偏低）。在總共4個科目中，成績標準差高達5.59，這是一個非常顯著的離散度，遠超過平均分數的約45%，強烈暗示學生的學業表現極不均衡，在不同科目之間存在巨大落差。這表明學生可能在某些領域擁有卓越潛力，但在其他領域則面臨嚴峻挑戰。\n",
            "\n",
            "### **2. 表現分析與優勢/弱項 (Analysis)**\n",
            "\n",
            "**成績集中度與分佈：**\n",
            "高標準差（5.59）是這份成績數據中最值得關注的指標。它明確指出學生的分數並非穩定地集中在平均值附近。這代表學生的學習成果並非是穩定的「普通」水平，而是由極高分與極低分共同拉扯而成的平均值。\n",
            "\n",
            "雖然提供的原始成績只顯示了兩個科目 (a: 10分, b: 20分) 作為範例，它們卻完美地驗證了整體數據所呈現的高度不平衡。科目「b」獲得20分，這是一個非常優異的成績（若以20為滿分），顯示學生在該科目或相關領域具備很強的理解力、掌握度與學習能力。相比之下，科目「a」的10分則相對較低，表明該領域存在顯著的學習障礙或知識空白。這兩極化的分數分佈導致了整體平均值被拉低，同時也使得標準差急劇升高。\n",
            "\n",
            "**優勢領域：**\n",
            "*   **具備高分潛力：** 科目「b」的優異表現證明學生完全有能力在特定領域取得頂尖成績。這不僅代表知識的掌握，也可能是學習策略、興趣或思維模式與該科目高度契合的結果。\n",
            "*   **學習能力不容小覷：** 能在某個科目達到高水平，說明學生具備優秀的學習基礎、專注力或解決問題的能力，這些是可以在其他科目上複製和應用的寶貴特質。\n",
            "\n",
            "**弱項：**\n",
            "*   **顯著的科目不平衡：** 某些科目的成績明顯偏低（如科目「a」），這可能源於基礎知識薄弱、學習方法不當、學習興趣缺乏、對該科目感到恐懼或教材內容理解困難等。\n",
            "*   **學習策略不一致：** 學生可能針對不同科目採用了差異極大的學習方法，或者未能為所有科目找到有效的學習策略。\n",
            "*   **整體表現受低分拖累：** 即使有高分項拉高了平均值，但低分項的影響力更大，導致整體平均成績無法反映其最佳狀態。這種不平衡也可能對學生的自信心和學習積極性造成負面影響。\n",
            "\n",
            "### **3. 常見學習迷思與建議 (Advice)**\n",
            "\n",
            "針對這種高度不平衡的成績模式，學生和家長常常會陷入以下幾種學習迷思，並需要針對性地採取行動：\n",
            "\n",
            "**常見學習迷思：**\n",
            "\n",
            "1.  **迷思一：「我就是對某些科目沒天份/沒興趣。」**\n",
            "    *   **解釋：** 雖然興趣和天賦確實影響學習效率，但「沒天份」往往是基礎不牢、學習方法錯誤或缺乏成功經驗的藉口。興趣是可以培養的，而技能是可以訓練的。\n",
            "2.  **迷思二：「我只要專攻我強的科目就好，弱的放著也沒關係。」**\n",
            "    *   **解釋：** 在某些階段（如高中、大學申請），科目均衡發展至關重要。長期忽略弱項會導致學術視野狹窄、綜合能力受限，甚至影響升學或未來發展。\n",
            "3.  **迷思三：「強科的高分是偶然，弱科的低分是正常的。」**\n",
            "    *   **解釋：** 高分絕非偶然，它反映了學生在特定領域的潛力。低分也絕非「正常」，它揭示了需要關注和改進的學習漏洞。\n",
            "4.  **迷思四：「我已經很努力了，但成績就是這樣。」**\n",
            "    *   **解釋：** 努力不等同於有效。無效的努力（如死記硬背、重複犯錯）無法帶來成績提升。關鍵在於找到對的學習方法。\n",
            "5.  **迷思五：「花太多時間補弱項會影響強項的精進。」**\n",
            "    *   **解釋：** 適當的時間分配是藝術。補強弱項通常能帶來更大的邊際效益提升，而強項則需要維持和深度拓展，而非無限制地投入時間。\n",
            "\n",
            "**實用建議：**\n",
            "\n",
            "1.  **全面診斷弱項科目：**\n",
            "    *   **識別根源：** 針對科目「a」及其他低分科目，深入分析低分的原因。是基礎知識有缺口？是解題技巧不熟練？是概念理解不清？是學習資源不足？還是學習時間不足、注意力不集中？\n",
            "    *   **自我反思與溝通：** 鼓勵學生與老師、家長溝通，釐清學習難點。\n",
            "2.  **制定精準的學習策略：**\n",
            "    *   **強項維持與深化：** 對於科目「b」這類強項，鼓勵學生挑戰更深層次的知識，參與拓展性學習（如閱讀相關書籍、參加競賽），保持對該領域的熱情和領先優勢。\n",
            "    *   **弱項基礎補強：** 對於弱項，重點應放在補齊基礎知識。建議從最根本的概念開始，循序漸進。可以考慮：\n",
            "        *   **尋求額外輔導：** 家教、學校老師的課後輔導、學習中心等。\n",
            "        *   **改變學習方法：** 例如，如果傳統聽講效果不佳，可以嘗試主動提問、做筆記、繪製概念圖、小組討論或利用線上學習資源。\n",
            "        *   **多做練習：** 針對性地進行練習，並仔細分析錯題。\n",
            "3.  **優化時間管理與資源分配：**\n",
            "    *   **優先級排序：** 根據科目成績和重要性，合理分配學習時間。初期可以將更多時間放在補強弱項上，待其穩定後再調整。\n",
            "    *   **規劃具體目標：** 為每個科目設定可量化且可達成的短期和長期目標。例如，目標不是「把數學學好」，而是「在下週完成第三章習題並訂正，下次小考提升5分」。\n",
            "4.  **培養成長型思維：**\n",
            "    *   **看待錯誤：** 將低分和錯誤視為學習的機會，而非失敗的標誌。\n",
            "    *   **肯定努力：** 表揚學生在弱項科目上付出的努力和點滴進步，而不僅僅是最終的成績。\n",
            "5.  **保持身心健康：**\n",
            "    *   確保充足的睡眠、均衡的飲食和適度的運動，這對提升學習效率和應對學業壓力至關重要。\n",
            "\n",
            "此份報告旨在提供一個初步的診斷和建議框架。建議家長與學生進一步與學校老師及專業人士（如學習心理顧問）深入溝通，共同為學生制定一份詳細且個性化的學習改進計劃。\n",
            "--------------------------------------------------\n"
          ]
        }
      ]
    }
  ]
}